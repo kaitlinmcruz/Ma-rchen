{
 "metadata": {
  "name": "",
  "signature": "sha256:548bc29a049f50087f04161d57ac56881777ba0b3f9fa3e54fb85469a4f42a6b"
 },
 "nbformat": 3,
 "nbformat_minor": 0,
 "worksheets": [
  {
   "cells": [
    {
     "cell_type": "heading",
     "level": 1,
     "metadata": {},
     "source": [
      "M\u00e4rchen MidTerm Project"
     ]
    },
    {
     "cell_type": "code",
     "collapsed": false,
     "input": [
      "import os\n",
      "import nltk\n",
      "import urllib.request"
     ],
     "language": "python",
     "metadata": {},
     "outputs": [],
     "prompt_number": 176
    },
    {
     "cell_type": "markdown",
     "metadata": {},
     "source": [
      "The purpose of this project is to have you put into practice some of the techniques and concepts of literary text analysis that we've been covering. The mid-term project should be a relatively modest attempt at making connections between what you can do with the tools and what you can do as a reader. The project should take the form of an iPython Notebook that takes full advantage of that medium's ability to mix formatted text, code, and output.\n",
      "\n",
      "Your project should have at least the following components (you may add more if it seems appropriate):\n",
      "\n",
      "Corpus Description (about a paragraph):\n",
      "\n",
      "describe your small corpus (up to a few texts) that's reletively readily accessible\n",
      "\n",
      "why did you choose this corpus?\n",
      "\n",
      "what do you already know about it?\n",
      "\n",
      "Corpus Acquisition: \n",
      "mix of markdown and code cells to describe acquiring and preparing your corpus\n",
      "\n",
      "Interpretive Questions (a paragraph or two): \n",
      "try to abstract for a moment from the text analysis techniques to formulate a set of questions that you'd like to be able to explore to better understand the corpus.\n",
      "\n",
      "Text Analysis & Exploration: mix of markdown and code cells to describe your process of using some simple text analysis techniques and how those contribute, or not, to your knowledge of the corpus and your interpretive questions.\n",
      "\n",
      "Conclusions (about a paragraph): summarize your findings (and/or frustrations).\n",
      "\n",
      "Next Steps (about a paragraph): what would you do next? what would you want to do next (don't worry about how you would do it, just what you would do). "
     ]
    },
    {
     "cell_type": "heading",
     "level": 1,
     "metadata": {},
     "source": [
      "Corpus Description"
     ]
    },
    {
     "cell_type": "markdown",
     "metadata": {},
     "source": [
      "I chose a small corpus of 4 texts from the Grimm Brothers Kinder und Hausm\u00e4rchen that include anthropomorphized creatures. The reason for this selection is to see if there is a pattern throughout the small corpus of how often the creatures appear in conjunction with the main character of the story. Oftentimes the main human character is a female child that is experiencing some sort of hardship. The goal here is to see when the talking creatures appear to the main character: when they are beginning  a long journey, after they've begun a journey and come across some difficulty, when they are in danger, or when they are lonely and simply need someone/something to talk to, OR whether the anthropormophized character actually becomes more important or significant in some way than the main human character. The selected corpus includes several works that are well known to most people, such as Aschenputtel (Cinderella), Rotk\u00e4ppchen (Little Red Riding Hood), but it also contains lesser known works such as Die sieben Raben (The Seven Ravens), and Rosenroth und Schneewei\u00dfchen (Rose-red and Snow-white). "
     ]
    },
    {
     "cell_type": "heading",
     "level": 1,
     "metadata": {},
     "source": [
      "Corpus Acquisition"
     ]
    },
    {
     "cell_type": "markdown",
     "metadata": {},
     "source": [
      "Initially, the corpus was found through a variety of online sources in German which were then copied into .txt files and saved in Unicode6.1 - UTF-8 to minimize character encoding issues that can occur. The following code will be used to access and work with the corpus within both Voyant Tools as well as using NLTK."
     ]
    },
    {
     "cell_type": "markdown",
     "metadata": {},
     "source": [
      "Our first M\u00e4rchen is \"Aschenputtel\". So let's find it."
     ]
    },
    {
     "cell_type": "heading",
     "level": 1,
     "metadata": {},
     "source": [
      "Aschenputtel Analysis"
     ]
    },
    {
     "cell_type": "code",
     "collapsed": false,
     "input": [
      "#aschenUrl = \"http://www.grimmsmaerchen.net/texte/khm21.php\"\n",
      "#aschenString = urllib.request.urlopen(aschenUrl).read().decode()"
     ],
     "language": "python",
     "metadata": {},
     "outputs": [],
     "prompt_number": 177
    },
    {
     "cell_type": "markdown",
     "metadata": {},
     "source": [
      "Above we receive a UnicodeDecodeError for the aschenString function because of a possibly corrupt start byte. Due to this issue, instead of accessing the files via the Internet, they will be accessed from their .txt local file extensions on my local storage device, which were copied and pasted from their respective urls. These text files will be supplied upon submission of this assignment for ease of access and transparency. Since these texts are already saved as local copies, we can simply open them in order to view/read their contents, which is shown in the following line of code.\n",
      "\n",
      "---------------------------------------------------------------------------\n",
      "```python\n",
      "print UnicodeDecodeError                        Traceback (most recent call last)\n",
      "<ipython-input-182-149f4a223cd7> in <module>()\n",
      "      1 aschenUrl = \"http://www.grimmsmaerchen.net/texte/khm21.php\"\n",
      "----> 2 aschenString = urllib.request.urlopen(aschenUrl).read().decode()\n",
      "\n",
      "UnicodeDecodeError: 'utf-8' codec can't decode byte 0xf6 in position 3659: invalid start byte```"
     ]
    },
    {
     "cell_type": "code",
     "collapsed": false,
     "input": [
      "f = open(\"data/M\u00e4rchen Midterm Project/Aschenputtel.txt\", \"r\")\n",
      "aschenString = f.read()\n",
      "f.close()"
     ],
     "language": "python",
     "metadata": {},
     "outputs": [],
     "prompt_number": 178
    },
    {
     "cell_type": "heading",
     "level": 1,
     "metadata": {},
     "source": [
      "Interpretive Questions"
     ]
    },
    {
     "cell_type": "markdown",
     "metadata": {},
     "source": [
      "In this corpus I would like to better understand if there is a correlation between the main character's appearances and those of the anthropomorphic characters that come to her aid. In the following lines of code the text will be analyzed, a few specific passages more closely looked at to determine whether or not the text mining and visual aids closely follow the story line such as it is known (and unknown in the less popular texts). Is there a way to determine at which points the main character is being aided by other non-human characters without actually closely reading/being familiar with the text? Will a concordance function give any insight into these previously stated questions? Are the non-human characters among the most frequent terms within the text? If not, is there a way to determine which characters are which without already being familar with the text? Is there any correlation between the frequency of the main character's name being mentioned (whether proper name or more informally such as \"M\u00e4dchen/girl\" or \"sie/she\" and the non-human character's name/title frequency? For example, if the main character's and the non-human character's names are mentioned an equal number of times at a specific point within the text, does that indicate that there is a shift in character importance, growth of either character, impending resolution to the story, a significant scene between the characters, or nothing at all?"
     ]
    },
    {
     "cell_type": "markdown",
     "metadata": {},
     "source": [
      "Now that we've got the driving questions written down, let's see what the text looks like. "
     ]
    },
    {
     "cell_type": "code",
     "collapsed": false,
     "input": [
      "print(aschenString[:75] + \" [rest of the text\u2026] \" + aschenString[-75:])\n",
      "print(len(aschenString))"
     ],
     "language": "python",
     "metadata": {},
     "outputs": [
      {
       "output_type": "stream",
       "stream": "stdout",
       "text": [
        "Aschenbuttel\n",
        "\n",
        "Einem reichen Manne dem wurde seine Frau krank, und als sie f [rest of the text\u2026] also f\u00fcr ihre Bosheit und Falschheit mit Blindheit auf ihr Lebtag gestraft.\n",
        "14182\n"
       ]
      }
     ],
     "prompt_number": 179
    },
    {
     "cell_type": "markdown",
     "metadata": {},
     "source": [
      "Since the text is appearing properly we can continue on down our path to isolating interesting elements within the plot. First, we need to use the nltk stemmer, import the list of stopwords so as not to have them included in token counts, and import the snowmall stemmer which includes a set of foreign language stemming rules. \n",
      "\n",
      "We also want to tokenize the string of words."
     ]
    },
    {
     "cell_type": "code",
     "collapsed": false,
     "input": [
      "aschenTokens = nltk.word_tokenize(aschenString)\n",
      "print(aschenTokens[:10]) #prints the first ten tokens so that we can confirm where everything is starting.\n",
      "from __future__ import unicode_literals, print_function\n",
      "\n",
      "from nltk import compat\n",
      "from nltk.corpus import stopwords\n",
      "from nltk.stem import porter\n",
      "\n",
      "from nltk.stem.api import StemmerI\n",
      "\n",
      "from nltk.stem.snowball import GermanStemmer\n",
      "stemmer = GermanStemmer()\n",
      "def __init__(self, language, ignore_stopwords=True):\n",
      "        if language not in self.languages:\n",
      "            raise ValueError(\"The language '%s' is not supported.\" % language)\n",
      "        stemmerclass = globals()[language.capitalize() + \"Stemmer\"]\n",
      "        self.stemmer = stemmerclass(ignore_stopwords)\n",
      "        self.stem = self.stemmer.stem\n",
      "        self.stopwords = self.stemmer.stopwords\n",
      "stemmer.stem(\"ausgezeichneten\")"
     ],
     "language": "python",
     "metadata": {},
     "outputs": [
      {
       "output_type": "stream",
       "stream": "stdout",
       "text": [
        "['Aschenbuttel', 'Einem', 'reichen', 'Manne', 'dem', 'wurde', 'seine', 'Frau', 'krank', ',']\n"
       ]
      },
      {
       "metadata": {},
       "output_type": "pyout",
       "prompt_number": 216,
       "text": [
        "'ausgezeichnet'"
       ]
      }
     ],
     "prompt_number": 216
    },
    {
     "cell_type": "markdown",
     "metadata": {},
     "source": [
      "The above code imports several functions that are already included with nltk. Here we can see that the stemmer has done its job with the adjective \"ausgezeichneten\" which has a gendered/cased ending \"-en\" at the end, and has been correctly output as the infinitive/simplest form of \"ausgezeichnet\". \n",
      "\n",
      "Now is also a good time to mention that I attempted to find a German language lemmatizer and did in fact come across one such instance which has open source documentation. However, the python files GermaNet.py and GermanetDBBuilder.py are not open source, and are only available to academic institutions through the Universit\u00e4t T\u00fcbingen's licensing agreement. Unfortunately, that means that, despite the German stemmer's availability, I will not be able to complete the entire planned analysis of these texts in German. The main issue is that M\u00e4rchen, or fairy tales, in German are written in the Pr\u00e4teritum/Preterite, which comes with significant vowel shifts. For example, the verb \"to go\" in its infinitive form is \"gehen\", whereas in the preterite it is \"ging\". This makes part of speech tagging analysis extremely complicated without a lemmatizer available for the target language. However, I will attempt to go as far as possible within the target language to prove that despite the stated shortcomings of this project, that some level of analysis is still attainable. \n",
      "\n",
      "I have included the url to Github documentation of the GermaNet as well as the Universit\u00e4t with the hope that at some point I will be able to acquire the required licensing to continue on with the text mining in the original language of the source texts.\n",
      "\n",
      "https://github.com/wroberts/pygermanet?files=1\n",
      "\n",
      "https://docs.google.com/document/d/1rdn0hOnJNcOBWEZgipdDfSyjJdnv_sinuAUSDSpiQns/edit?hl=en#\n",
      "\n",
      "(In the above link, I completed all of the suggested steps except for the two requiring the .py files to be inserted since I do not have access to these documents.)\n",
      "\n",
      "http://www.sfs.uni-tuebingen.de/GermaNet/licenses.shtml"
     ]
    },
    {
     "cell_type": "markdown",
     "metadata": {},
     "source": [
      "In the aschenTokens list that is output above, we can see that it is also including punctuation. We want to filter out not only stopwords, but also this punctuation because it is not necessary for our purposes. In order to do this we simply need to state that we only want alphabetical characters to be recognized. Except that in order for all tokens to be recognized as the same regardless of their capitalization within the document, we also need to make all tokens lowercase, as well."
     ]
    },
    {
     "cell_type": "code",
     "collapsed": false,
     "input": [
      "aschenStopwords = nltk.corpus.stopwords.words(\"German\")\n",
      "aschenTokensLowercase = nltk.word_tokenize(aschenString.lower())"
     ],
     "language": "python",
     "metadata": {},
     "outputs": [],
     "prompt_number": 217
    },
    {
     "cell_type": "code",
     "collapsed": false,
     "input": [
      "aschenTokensStop = [word for word in aschenTokensLowercase if not word in aschenStopwords]\n",
      "#print(aschenTokensStop)"
     ],
     "language": "python",
     "metadata": {},
     "outputs": [],
     "prompt_number": 218
    },
    {
     "cell_type": "code",
     "collapsed": false,
     "input": [
      "aschenRealTokens = [word for word in aschenTokensLowercase if any(c.isalpha() for c in word) if not word in aschenStopwords]\n",
      "#print(aschenRealTokens)"
     ],
     "language": "python",
     "metadata": {},
     "outputs": [],
     "prompt_number": 219
    },
    {
     "cell_type": "markdown",
     "metadata": {},
     "source": [
      "This gives us a  list of single tokens in the entire Aschenputtel.txt file. Here, we can start looking at the most frequently occuring terms. "
     ]
    },
    {
     "cell_type": "code",
     "collapsed": false,
     "input": [
      "aschenFreqs = nltk.FreqDist(aschenRealTokens)\n",
      "aschenFreqs.tabulate(25)"
     ],
     "language": "python",
     "metadata": {},
     "outputs": [
      {
       "output_type": "stream",
       "stream": "stdout",
       "text": [
        "aschenputtel gieng sprach  pik k\u00f6nigssohn  kam zwei m\u00e4dchen asche schuh braut fort t\u00e4ubchen haus kamen mutter  fu\u00df hochzeit kleider nahm \u201edas schwestern v\u00f6glein rechte schuck \n",
        "  23   18   18   16   15   12   11   11   11   10   10    9    9    8    8    8    8    8    7    7    7    6    6    6    6 \n"
       ]
      }
     ],
     "prompt_number": 220
    },
    {
     "cell_type": "markdown",
     "metadata": {},
     "source": [
      "Here we can see clearly that the most frequently used term is the main character's name \"Aschenputtel\" herself. The next term \"gieng\" is an old world spelling of the preterite form of \"to go\". Let's get a better look at these terms in a word cloud."
     ]
    },
    {
     "cell_type": "code",
     "collapsed": false,
     "input": [
      "from IPython.display import HTML\n",
      "HTML('<iframe width=\"700\" height=\"400\" src=\"http://voyant-tools.org/tool/Cirrus/?corpus=1424652030452.3389&stopList=stop.de.german.txt&docIndex=0&docId=d1424583132536.30c9cd7a-8261-7460-c4ff-a7c6723d41f9\"></iframe>')"
     ],
     "language": "python",
     "metadata": {},
     "outputs": [
      {
       "html": [
        "<iframe width=\"700\" height=\"400\" src=\"http://voyant-tools.org/tool/Cirrus/?corpus=1424652030452.3389&stopList=stop.de.german.txt&docIndex=0&docId=d1424583132536.30c9cd7a-8261-7460-c4ff-a7c6723d41f9\"></iframe>"
       ],
       "metadata": {},
       "output_type": "pyout",
       "prompt_number": 221,
       "text": [
        "<IPython.core.display.HTML at 0x109c5e0b8>"
       ]
      }
     ],
     "prompt_number": 221
    },
    {
     "cell_type": "markdown",
     "metadata": {},
     "source": [
      " As interesting as this word cloud is, it still doesn't give us any context.\n",
      " Let's get a closer look at what terms occur around Aschenputtel."
     ]
    },
    {
     "cell_type": "code",
     "collapsed": false,
     "input": [
      "aschenText = nltk.Text(aschenTokens)\n",
      "aschenText.concordance(\"aschenputtel\", lines=10)"
     ],
     "language": "python",
     "metadata": {},
     "outputs": [
      {
       "output_type": "stream",
       "stream": "stdout",
       "text": [
        "Displaying 10 of 23 matches:\n",
        "chmutzig aussah , nannten sie es Aschenputtel . Es trug sich zu , da\u00df der Vate\n",
        "lsteine\u201c die zweite . \u201eAber du , Aschenputtel , \u201c sprach er , \u201ewas willst du h\n",
        " sich gew\u00fcnscht hatten , und dem Aschenputtel gab er das Reis von dem Haselbus\n",
        "er das Reis von dem Haselbusch . Aschenputtel dankte ihm , gieng zu seiner Mut\n",
        "er , und ward ein sch\u00f6ner Baum . Aschenputtel gieng alle Tage dreimal darunter\n",
        "ten , waren guter Dinge , riefen Aschenputtel , und sprachen \u201ek\u00e4mm uns die Haa\n",
        "Hochzeit auf des K\u00f6nigs Schlo\u00df.\u201c Aschenputtel gehorchte , weinte aber , weil e\n",
        "sie m\u00f6chte es ihm erlauben . \u201eDu Aschenputtel , \u201c sprach sie , \u201ebist voll Stau\n",
        " gehen . Aber sie sprach \u201enein , Aschenputtel , du hast keine Kleider , und ka\n",
        " niemand mehr daheim war , gieng Aschenputtel zu seiner Mutter Grab unter den \n"
       ]
      }
     ],
     "prompt_number": 222
    },
    {
     "cell_type": "markdown",
     "metadata": {},
     "source": [
      "Unfortunately the concordance function doesn't explain much about the other characters that occur whenever Aschenputtel is mentioned. Let's try for a frequncy plot of the top 25 terms. "
     ]
    },
    {
     "cell_type": "code",
     "collapsed": false,
     "input": [
      "import matplotlib.pyplot as plt\n",
      "%matplotlib inline\n",
      "aschenFreqs.plot(25, title =\"Top Frequency Terms in Aschenputtel\")"
     ],
     "language": "python",
     "metadata": {},
     "outputs": [
      {
       "metadata": {},
       "output_type": "display_data",
       "png": "[encoded data removed]",
       "text": [
        "<matplotlib.figure.Figure at 0x109ad6358>"
       ]
      }
     ],
     "prompt_number": 223
    },
    {
     "cell_type": "markdown",
     "metadata": {},
     "source": [
      "Zipf's law still exists here, even if it is less pronounced than usual. What would these terms look like in a word trends graph, without the verbs, i.e. characters only?"
     ]
    },
    {
     "cell_type": "code",
     "collapsed": false,
     "input": [
      "HTML('<iframe width=\"700\" height=\"400\" src=\"http://voyant-tools.org/tool/TypeFrequenciesChart/?corpus=1424652030452.3389&docIdType=d1424583132536.30c9cd7a-8261-7460-c4ff-a7c6723d41f9%3Aaschenputtel&docIdType=d1424583132536.30c9cd7a-8261-7460-c4ff-a7c6723d41f9%3Am%C3%A4dchen&docIdType=d1424583132536.30c9cd7a-8261-7460-c4ff-a7c6723d41f9%3At%C3%A4ubchen&docIdType=d1424583132536.30c9cd7a-8261-7460-c4ff-a7c6723d41f9%3Av%C3%B6glein&docIdType=d1424583132536.30c9cd7a-8261-7460-c4ff-a7c6723d41f9%3Avogel&docIdType=d1424583132536.30c9cd7a-8261-7460-c4ff-a7c6723d41f9%3Ahaselb%C3%A4umchen&docIdType=d1424583132536.30c9cd7a-8261-7460-c4ff-a7c6723d41f9%3Abaum&stopList=stop.de.german.txt&mode=document&limit=7\"></iframe>')"
     ],
     "language": "python",
     "metadata": {},
     "outputs": [
      {
       "html": [
        "<iframe width=\"700\" height=\"400\" src=\"http://voyant-tools.org/tool/TypeFrequenciesChart/?corpus=1424652030452.3389&docIdType=d1424583132536.30c9cd7a-8261-7460-c4ff-a7c6723d41f9%3Aaschenputtel&docIdType=d1424583132536.30c9cd7a-8261-7460-c4ff-a7c6723d41f9%3Am%C3%A4dchen&docIdType=d1424583132536.30c9cd7a-8261-7460-c4ff-a7c6723d41f9%3At%C3%A4ubchen&docIdType=d1424583132536.30c9cd7a-8261-7460-c4ff-a7c6723d41f9%3Av%C3%B6glein&docIdType=d1424583132536.30c9cd7a-8261-7460-c4ff-a7c6723d41f9%3Avogel&docIdType=d1424583132536.30c9cd7a-8261-7460-c4ff-a7c6723d41f9%3Ahaselb%C3%A4umchen&docIdType=d1424583132536.30c9cd7a-8261-7460-c4ff-a7c6723d41f9%3Abaum&stopList=stop.de.german.txt&mode=document&limit=7\"></iframe>"
       ],
       "metadata": {},
       "output_type": "pyout",
       "prompt_number": 224,
       "text": [
        "<IPython.core.display.HTML at 0x109b0ec50>"
       ]
      }
     ],
     "prompt_number": 224
    },
    {
     "cell_type": "markdown",
     "metadata": {},
     "source": [
      "This graph gives us a plot of raw counts of all of the terms within the key at the top.\n",
      "\n",
      "The terms \"aschenputtel\" and \"m\u00e4dchen\" both refer to the main charachter. \"T\u00e4ubchen\"/\"V\u00f6gelein is a little dove/bird, upon which Aschenputtel calls for help when she was asked to remove every single lentil out of the ashes in the hearth. They indeed came to her rescue around the 3-4 segment mark and are written in conjunction with M\u00e4dchen because she is the one calling upon them. Later on in the story, they occur as often as M\u00e4dchen and Haselb\u00e4umchen (little hazel bush) because they fly past the little bush and let on to the fact that Aschenputtel/das M\u00e4dchen is really the one that the prince had fallen in love with, the one who had lost her slipper at the castle. The Haselb\u00e4umchen is also directly connected the Aschenputtel's late mother, to whose grave she goes when she needs help getting ready for the festival. A bird in the \"Baum\" drops down a silver and gold embroidered dress and shoes that were so lovely that her step-mother and sisters did not recognize her at the festival. This continued for three days until she lost her slipper when the prince laid down some tar hoping to slow her down. \n",
      "\n",
      "It seems that at the beginning of the story, the most important character is Aschenputtel herself. Then as time goes on the birds play a larger role when she needs them to. Further on into the story, Aschenputtel becomes more important again since it is she who must go to the festival and return every night for three nights. Then, she is out of view in the 8th segment because the prince has visited their home and asked to see the two daughters of the house so that he could try the slipper on them. She reappears in the final two segments when the prince requests to see all females of the house, and finally they marry, all thanks to the birds who helped her throughout the tale. \n",
      "\n",
      "For those of us who do not speak German, I found a very nice side-by-side English/German version of the tale to compare when the above terms appear in both texts. (http://www.grimmstories.com/language.php?grimm=021&l=en&r=de)"
     ]
    },
    {
     "cell_type": "heading",
     "level": 1,
     "metadata": {},
     "source": [
      "Rotk\u00e4ppchen Analysis"
     ]
    },
    {
     "cell_type": "code",
     "collapsed": false,
     "input": [
      "f = open(\"data/M\u00e4rchen Midterm Project/Rotk\u00e4ppchen.txt\", \"r\")\n",
      "rotString = f.read()\n",
      "f.close()"
     ],
     "language": "python",
     "metadata": {},
     "outputs": [],
     "prompt_number": 225
    },
    {
     "cell_type": "code",
     "collapsed": false,
     "input": [
      "print(rotString[:75] + \" [rest of the text\u2026] \" + rotString[-75:])\n",
      "print(len(rotString))"
     ],
     "language": "python",
     "metadata": {},
     "outputs": [
      {
       "output_type": "stream",
       "stream": "stdout",
       "text": [
        "\ufeffRotk\u00e4ppchen\n",
        "Es war einmal eine kleine s\u00fc\u00dfe Dirne, die hatte jedermann lieb [rest of the text\u2026] ppchen aber gieng fr\u00f6hlich nach Haus, und that ihm niemand etwas zu Leid.\n",
        "\n",
        "\n",
        "7313\n"
       ]
      }
     ],
     "prompt_number": 226
    },
    {
     "cell_type": "code",
     "collapsed": false,
     "input": [
      "rotTokens = nltk.word_tokenize(rotString)\n",
      "print(rotTokens[:10]) #prints the first ten tokens so that we can confirm where everything is starting.\n",
      "from __future__ import unicode_literals, print_function\n",
      "\n",
      "from nltk import compat\n",
      "from nltk.corpus import stopwords\n",
      "from nltk.stem import porter\n",
      "\n",
      "from nltk.stem.api import StemmerI\n",
      "\n",
      "from nltk.stem.snowball import GermanStemmer\n",
      "stemmer = GermanStemmer()\n",
      "def __init__(self, language, ignore_stopwords=True):\n",
      "        if language not in self.languages:\n",
      "            raise ValueError(\"The language '%s' is not supported.\" % language)\n",
      "        stemmerclass = globals()[language.capitalize() + \"Stemmer\"]\n",
      "        self.stemmer = stemmerclass(ignore_stopwords)\n",
      "        self.stem = self.stemmer.stem\n",
      "        self.stopwords = self.stemmer.stopwords\n",
      "stemmer.stem(\"ausgezeichneten\")"
     ],
     "language": "python",
     "metadata": {},
     "outputs": [
      {
       "output_type": "stream",
       "stream": "stdout",
       "text": [
        "['\\ufeffRotk\u00e4ppchen', 'Es', 'war', 'einmal', 'eine', 'kleine', 's\u00fc\u00dfe', 'Dirne', ',', 'die']\n"
       ]
      },
      {
       "metadata": {},
       "output_type": "pyout",
       "prompt_number": 227,
       "text": [
        "'ausgezeichnet'"
       ]
      }
     ],
     "prompt_number": 227
    },
    {
     "cell_type": "code",
     "collapsed": false,
     "input": [
      "rotStopwords = nltk.corpus.stopwords.words(\"German\")\n",
      "rotTokensLowercase = nltk.word_tokenize(rotString.lower())"
     ],
     "language": "python",
     "metadata": {},
     "outputs": [],
     "prompt_number": 228
    },
    {
     "cell_type": "code",
     "collapsed": false,
     "input": [
      "rotTokensStop = [word for word in rotTokensLowercase if not word in rotStopwords]\n",
      "#print(rotTokensStop)"
     ],
     "language": "python",
     "metadata": {},
     "outputs": [],
     "prompt_number": 229
    },
    {
     "cell_type": "code",
     "collapsed": false,
     "input": [
      "rotRealTokens = [word for word in rotTokensLowercase if any(c.isalpha() for c in word) if not word in rotStopwords]\n",
      "\n",
      "rotFreqs = nltk.FreqDist(rotRealTokens)\n",
      "rotFreqs.tabulate(25)"
     ],
     "language": "python",
     "metadata": {},
     "outputs": [
      {
       "output_type": "stream",
       "stream": "stdout",
       "text": [
        "gro\u00dfmutter rothk\u00e4ppchen wolf gieng haus wald gro\u00dfe th\u00fcre dachte hast kann.\u201c besser sagte  \u201eei sprach wein hinaus blumen  sah  kam bett rief \u201eda\u00df   ab augen \n",
        "  25   22   16    8    7    6    6    5    5    5    5    5    5    4    4    4    4    4    4    4    4    4    4    4    3 \n"
       ]
      }
     ],
     "prompt_number": 233
    },
    {
     "cell_type": "markdown",
     "metadata": {},
     "source": [
      "Here we can see that, even though the main character is Rotk\u00e4ppchen, the grandmother is actually the most frequently occurring term, probably because the Mother, Rotk\u00e4ppchen, and the Wolf all refer to the grandmother and her house more often than to Rotk\u00e4ppchen herself. Also, when Rotk\u00e4ppchen arrives to her grandmother's house, she asks the Wolf, who is dressed in the grandmother's clothing, questions pertaining to the grandmother herself. (i.e. Grandmother, what big teeth you have.) The J\u00e4ger/ hunter is not even in the most frequent words list because he only appears at the end of the tale. He is the one that saves the day, however, and will be included later in the word trends chart to show his importance."
     ]
    },
    {
     "cell_type": "code",
     "collapsed": false,
     "input": [
      "from IPython.display import HTML\n",
      "HTML('<iframe width=\"700\" height=\"400\" src=\"http://voyant-tools.org/tool/Cirrus/?corpus=1425060512584.3210&stopList=stop.de.german.txt&docIndex=0&docId=d1425014025539.8a6e1450-66ec-b665-5929-4c015d554318\"></iframe>')"
     ],
     "language": "python",
     "metadata": {},
     "outputs": [
      {
       "html": [
        "<iframe width=\"700\" height=\"400\" src=\"http://voyant-tools.org/tool/Cirrus/?corpus=1425060512584.3210&stopList=stop.de.german.txt&docIndex=0&docId=d1425014025539.8a6e1450-66ec-b665-5929-4c015d554318\"></iframe>"
       ],
       "metadata": {},
       "output_type": "pyout",
       "prompt_number": 234,
       "text": [
        "<IPython.core.display.HTML at 0x109c5e9e8>"
       ]
      }
     ],
     "prompt_number": 234
    },
    {
     "cell_type": "markdown",
     "metadata": {},
     "source": [
      "Again, the word cloud is interesting but doesn't explain anything about the correlation between Rotk\u00e4ppchen's appearances and those of the Wolf in conjunction with one another. This tale is completely different than that of Aschenputtel because the anthropomorphic Wolf is not a helper, but rather the antagonist of the story. So, let's look at the concordance of Rotk\u00e4ppchen, the Wolf, and the Grandmother to see if they generally appear together, and if not, what the sentences surrounding each character actually look like. We will use the original rotTokens instead of the rotRealTokens to make the sentences easier to read."
     ]
    },
    {
     "cell_type": "code",
     "collapsed": false,
     "input": [
      "rotText = nltk.Text(rotTokens)\n",
      "rotText.concordance(\"rothk\u00e4ppchen\", lines=25)"
     ],
     "language": "python",
     "metadata": {},
     "outputs": [
      {
       "output_type": "stream",
       "stream": "stdout",
       "text": [
        "Displaying 22 of 22 matches:\n",
        " tragen wollte , hie\u00df es nur das Rothk\u00e4ppchen . Eines Tages sprach seine Mutte\n",
        "rach seine Mutter zu ihm \u201ekomm , Rothk\u00e4ppchen , da hast du ein St\u00fcck Kuchen un\n",
        "ll schon alles gut machen\u201c sagte Rothk\u00e4ppchen zur Mutter , und gab ihr die Han\n",
        " halbe Stunde vom Dorf . Wie nun Rothk\u00e4ppchen in den Wald kam , begegnete ihm \n",
        "d kam , begegnete ihm der Wolf . Rothk\u00e4ppchen aber wu\u00dfte nicht was das f\u00fcr ein\n",
        "ich nicht vor ihm . \u201eGuten Tag , Rothk\u00e4ppchen , \u201c sprach er . \u201eSch\u00f6nen Dank , \n",
        "nk , Wolf.\u201c \u201eWo hinaus so fr\u00fch , Rothk\u00e4ppchen ? \u201c \u201eZur Gro\u00dfmutter.\u201c \u201eWas tr\u00e4gs\n",
        " , das wirst du ja wissen\u201c sagte Rothk\u00e4ppchen . Der Wolf dachte bei sich \u201edas \n",
        "\u201c Da gieng er ein Weilchen neben Rothk\u00e4ppchen her , dann sprach er \u201eRothk\u00e4ppch\n",
        "t so lustig hau\u00dfen in dem Wald.\u201c Rothk\u00e4ppchen schlug die Augen auf , und als e\n",
        " Bett und zog die Vorh\u00e4nge vor . Rothk\u00e4ppchen aber war nach den Blumen herum g\n",
        "em Bette und verschlang das arme Rothk\u00e4ppchen . Wie der Wolf sein Gel\u00fcsten ges\n",
        " heraus und konnte kaum athmen . Rothk\u00e4ppchen aber holte geschwind gro\u00dfe Stein\n",
        "en Kuchen und trank den Wein den Rothk\u00e4ppchen gebracht hatte , und erholte sic\n",
        "atte , und erholte sich wieder , Rothk\u00e4ppchen aber dachte \u201edu willst dein Lebt\n",
        " auch erz\u00e4hlt , da\u00df einmal , als Rothk\u00e4ppchen der alten Gro\u00dfmutter wieder Geba\n",
        " vom Wege habe ableiten wollen . Rothk\u00e4ppchen aber h\u00fctete sich und gieng gerad\n",
        "h auf , Gro\u00dfmutter , ich bin das Rothk\u00e4ppchen , ich bring dir Gebackenes.\u201c Sie\n",
        " aufs Dach und wollte warten bis Rothk\u00e4ppchen Abends nach Haus gienge , dann w\n",
        "ie zu dem Kind \u201enimm den Eimer , Rothk\u00e4ppchen , gestern hab ich W\u00fcrste gekocht\n",
        "sie gekocht sind , in den Trog.\u201c Rothk\u00e4ppchen trug so lange , bis der gro\u00dfe gr\n",
        "gro\u00dfen Trog hinein und ertrank . Rothk\u00e4ppchen aber gieng fr\u00f6hlich nach Haus , \n"
       ]
      }
     ],
     "prompt_number": 235
    },
    {
     "cell_type": "markdown",
     "metadata": {},
     "source": [
      "In the list of concordances seen above for \"Rothk\u00e4ppchen\" we see that in 4 of the 22 sentences/situations, the wolf occurs alongside her name. In only one of those 4 situations do all three of the main characters occur. The J\u00e4ger is nowhere to be found here."
     ]
    },
    {
     "cell_type": "code",
     "collapsed": false,
     "input": [
      "rotText.concordance(\"wolf\", lines = 25)"
     ],
     "language": "python",
     "metadata": {},
     "outputs": [
      {
       "output_type": "stream",
       "stream": "stdout",
       "text": [
        "Displaying 16 of 16 matches:\n",
        " in den Wald kam , begegnete ihm der Wolf . Rothk\u00e4ppchen aber wu\u00dfte nicht was \n",
        " ja wissen\u201c sagte Rothk\u00e4ppchen . Der Wolf dachte bei sich \u201edas junge zarte Din\n",
        "mmer tiefer in den Wald hinein . Der Wolf aber gieng geradeswegs nach dem Haus\n",
        "hwach und kann nicht aufstehen.\u201c Der Wolf dr\u00fcckte auf die Klinke , die Th\u00fcre s\n",
        "besser fressen kann.\u201c Kaum hatte der Wolf das gesagt , so that er einen Satz a\n",
        "lang das arme Rothk\u00e4ppchen . Wie der Wolf sein Gel\u00fcsten gestillt hatte , legte\n",
        "or das Bette kam , so sah er da\u00df der Wolf darin lag . \u201eFinde ich dich hier , d\n",
        "B\u00fcchse anlegen , da fiel ihm ein der Wolf k\u00f6nnte die Gro\u00dfmutter gefressen habe\n",
        "Scheere und fieng an dem schlafenden Wolf den Bauch aufzuschneiden . Wie er ei\n",
        "chrocken , wie wars so dunkel in dem Wolf seinem Leib ! \u201c Und dann kam die alt\n",
        "gro\u00dfe Steine , damit f\u00fcllten sie dem Wolf den Leib , und wie er aufwachte , wo\n",
        "le drei vergn\u00fcgt ; der J\u00e4ger zog dem Wolf den Pelz ab und gieng damit heim , d\n",
        "der Gebackenes brachte , ein anderer Wolf ihm zugesprochen und es vom Wege hab\n",
        " und sagte der Gro\u00dfmutter da\u00df es dem Wolf begegnet w\u00e4re , der ihm guten Tag ge\n",
        "rein kann.\u201c Bald darnach klopfte der Wolf an und rief \u201emach auf , Gro\u00dfmutter ,\n",
        "stieg der Geruch von den W\u00fcrsten dem Wolf in die Nase , er schnupperte und guc\n"
       ]
      }
     ],
     "prompt_number": 236
    },
    {
     "cell_type": "markdown",
     "metadata": {},
     "source": [
      "In this list of concordances for \"Wolf\" we see that in only 3 of the 16 instances do both the wolf and Rotk\u00e4ppchen appear together. The grandmother does not appear in conjuction with Rotk\u00e4ppchen here, but there are 2 instances of her with the wolf. Here we also see finally the J\u00e4ger come forward, who takes the pelt off of the dead wolf's body. \"der J\u00e4ger zog dem Wolf den Pelz ab und gieng damit heim\"."
     ]
    },
    {
     "cell_type": "code",
     "collapsed": false,
     "input": [
      "rotText.concordance(\"gro\u00dfmutter\", lines = 25)"
     ],
     "language": "python",
     "metadata": {},
     "outputs": [
      {
       "output_type": "stream",
       "stream": "stdout",
       "text": [
        "Displaying 25 of 25 matches:\n",
        "nsah , am allerliebsten aber ihre Gro\u00dfmutter , die wu\u00dfte gar nicht was sie all\n",
        "eine Flasche Wein , bring das der Gro\u00dfmutter hinaus ; sie ist krank und schwac\n",
        "u und zerbrichst das Glas und die Gro\u00dfmutter hat nichts . Und wenn du in ihre \n",
        "und gab ihr die Hand darauf . Die Gro\u00dfmutter aber wohnte drau\u00dfen im Wald , ein\n",
        "soll sich die kranke und schwache Gro\u00dfmutter etwas zu gut thun , und sich dami\n",
        ".\u201c \u201eRothk\u00e4ppchen , wo wohnt deine Gro\u00dfmutter ? \u201c \u201eNoch eine gute Viertelstunde\n",
        "n stand , dachte es \u201ewenn ich der Gro\u00dfmutter einen frischen Strau\u00df mitbringe ,\n",
        "eng geradeswegs nach dem Haus der Gro\u00dfmutter , und klopfte an die Th\u00fcre . \u201eWer\n",
        "k nur auf die Klinke , \u201c rief die Gro\u00dfmutter , \u201eich bin zu schwach und kann ni\n",
        "zu sprechen , gerade zum Bett der Gro\u00dfmutter und verschluckte sie . Dann that \n",
        "mehr tragen konnte , fiel ihm die Gro\u00dfmutter wieder ein und es machte sich auf\n",
        " , und bin sonst so gerne bei der Gro\u00dfmutter ! \u201c Es rief \u201eguten Morgen , \u201c bek\n",
        " die Vorh\u00e4nge zur\u00fcck : da lag die Gro\u00dfmutter , und hatte die Haube tief ins Ge\n",
        "und sah so wunderlich aus . \u201eEi , Gro\u00dfmutter , was hast du f\u00fcr gro\u00dfe Ohren ! \u201c\n",
        "ch dich besser h\u00f6ren kann.\u201c \u201eEi , Gro\u00dfmutter , was hast du f\u00fcr gro\u00dfe Augen ! \u201c\n",
        "ch dich besser sehen kann.\u201c \u201eEi , Gro\u00dfmutter , was hast du f\u00fcr gro\u00dfe H\u00e4nde ! \u201c\n",
        "dich besser packen kann.\u201c \u201eAber , Gro\u00dfmutter , was hast du f\u00fcr ein entsetzlich\n",
        " fiel ihm ein der Wolf k\u00f6nnte die Gro\u00dfmutter gefressen haben , und sie w\u00e4re no\n",
        "em Leib ! \u201c Und dann kam die alte Gro\u00dfmutter auch noch lebendig heraus und kon\n",
        "elz ab und gieng damit heim , die Gro\u00dfmutter a\u00df den Kuchen und trank den Wein \n",
        "nmal , als Rothk\u00e4ppchen der alten Gro\u00dfmutter wieder Gebackenes brachte , ein a\n",
        "de fort seines Wegs und sagte der Gro\u00dfmutter da\u00df es dem Wolf begegnet w\u00e4re , d\n",
        "h gefressen.\u201c \u201eKomm , \u201c sagte die Gro\u00dfmutter , \u201ewir wollen die Th\u00fcre verschlie\n",
        " der Wolf an und rief \u201emach auf , Gro\u00dfmutter , ich bin das Rothk\u00e4ppchen , ich \n",
        "der Dunkelheit fressen . Aber die Gro\u00dfmutter merkte was er im Sinn hatte . Nun\n"
       ]
      }
     ],
     "prompt_number": 237
    },
    {
     "cell_type": "markdown",
     "metadata": {},
     "source": [
      "The most frequent word, Gro\u00dfmutter (grandmother), has the above concordances. She appears alongside Rotk\u00e4ppchen only 3 of the 25 instances here. However, the middle section, where \"Ei, Gro\u00dfmutter\" can be seen, is when Rotk\u00e4ppchen is actually talking to the wolf, whom she thinks is her grandmother. The wolf and grandmother appear near each other in only 3 of the 25, just the same as Rotk\u00e4ppchen. We can also see that in 1 concordance all three of the main characters' names appear together, but only when the wolf knocks on the grandmother's door and convinces her that he is Rotk\u00e4ppchen. "
     ]
    },
    {
     "cell_type": "markdown",
     "metadata": {},
     "source": [
      "We can also plot the terms frequencies, just to see."
     ]
    },
    {
     "cell_type": "code",
     "collapsed": false,
     "input": [
      "import matplotlib.pyplot as plt\n",
      "%matplotlib inline\n",
      "rotFreqs.plot(25, title =\"Top Frequency Terms in Rothk\u00e4ppchen\")"
     ],
     "language": "python",
     "metadata": {},
     "outputs": [
      {
       "metadata": {},
       "output_type": "display_data",
       "png": "[encoded data removed]",
       "text": [
        "<matplotlib.figure.Figure at 0x109c40710>"
       ]
      }
     ],
     "prompt_number": 238
    },
    {
     "cell_type": "markdown",
     "metadata": {},
     "source": [
      "Zipf's law is significantly skewed in this chart because the first three most frequent terms occur 63 times when added up and the next most frequent term \"gieng\" which is the past tense of \"to go\" occurs significantly fewer times (only 8). "
     ]
    },
    {
     "cell_type": "code",
     "collapsed": false,
     "input": [
      "HTML('<iframe width=\"700\" height=\"400\" src=\"http://voyant-tools.org/tool/TypeFrequenciesChart/?corpus=1425060512584.3210&docIdType=d1425014025539.8a6e1450-66ec-b665-5929-4c015d554318%3Agro%C3%9Fmutter&docIdType=d1425014025539.8a6e1450-66ec-b665-5929-4c015d554318%3Arothk%C3%A4ppchen&docIdType=d1425014025539.8a6e1450-66ec-b665-5929-4c015d554318%3Awolf&docIdType=d1425014025539.8a6e1450-66ec-b665-5929-4c015d554318%3Aj%C3%A4ger&stopList=stop.de.german.txt&mode=document&limit=4&freqsMode=raw\"></iframe>')"
     ],
     "language": "python",
     "metadata": {},
     "outputs": [
      {
       "html": [
        "<iframe width=\"700\" height=\"400\" src=\"http://voyant-tools.org/tool/TypeFrequenciesChart/?corpus=1425060512584.3210&docIdType=d1425014025539.8a6e1450-66ec-b665-5929-4c015d554318%3Agro%C3%9Fmutter&docIdType=d1425014025539.8a6e1450-66ec-b665-5929-4c015d554318%3Arothk%C3%A4ppchen&docIdType=d1425014025539.8a6e1450-66ec-b665-5929-4c015d554318%3Awolf&docIdType=d1425014025539.8a6e1450-66ec-b665-5929-4c015d554318%3Aj%C3%A4ger&stopList=stop.de.german.txt&mode=document&limit=4&freqsMode=raw\"></iframe>"
       ],
       "metadata": {},
       "output_type": "pyout",
       "prompt_number": 239,
       "text": [
        "<IPython.core.display.HTML at 0x109c161d0>"
       ]
      }
     ],
     "prompt_number": 239
    },
    {
     "cell_type": "markdown",
     "metadata": {},
     "source": [
      "This graph gives us a visual of the raw frequencies of the four main characters in the story. Obviously, at the beginning, Rotk\u00e4ppchen is the star. This is because her mother is speaking with her, and the reader is being introduced to her, and then she sets off through the woods to her grandmother's house. Soon thereafter she encounters the wolf, which we can see in the second segment of the story. The grandmother weaves in an out of the story throughout its entirety through references to her name, place of residence, and then at around the 6th segment of the story which is when the wolf-dressed-as-grandmother and Rotk\u00e4ppchen scene occurs. As the occurrences of the grandmother dwindle, the wolf jumps into action, at which point he has now eaten both the grandmother and Rotk\u00e4ppchen. Simultenously the J\u00e4ger shows up to save the day and then isn't mentioned again at all. In fact, the J\u00e4ger is only mentioned twice in this version of the story at all, in segments 7 and 8. \n",
      "\n",
      "This version of the tale has an alternate ending which is indicated with the continuation of the frequency of the term \"wolf\" in segments 9 and 10. Since Rotk\u00e4ppchen had actually learned her lesson the first time around, that she should stay on the train and not talk to strangers (let alone wolves), the next time she took the trip to her grandmother's house and came across an angry/horrible wolf, she knew better than to tell him where her grandmother lived, or to speak to him at all. He followed her anyway, but the grandmother had a plan. The previous day she had cooked sausages and still had plenty of sausage water. When the wolf was on the roof of the grandmother's house, Rotk\u00e4ppchen filled the trough outside with the sausage water and the wolf simply could not resist. His far reaching sniffing from the roof caused him to lose his balance and fall off into the water, thus drowning himself in sausage water. And that is the end for all of the characters in this story. \n",
      "http://www.grimmstories.com/language.php?grimm=026&l=en&r=de"
     ]
    },
    {
     "cell_type": "heading",
     "level": 1,
     "metadata": {},
     "source": [
      "Die sieben Raben Analysis"
     ]
    },
    {
     "cell_type": "code",
     "collapsed": false,
     "input": [
      "f = open(\"data/M\u00e4rchen Midterm Project/Die sieben Raben.txt\", \"r\")\n",
      "rabenString = f.read()\n",
      "f.close()"
     ],
     "language": "python",
     "metadata": {},
     "outputs": [],
     "prompt_number": 240
    },
    {
     "cell_type": "code",
     "collapsed": false,
     "input": [
      "print(rabenString[:75] + \" [rest of the text\u2026] \" + rabenString[-75:])\n",
      "print(len(rabenString))"
     ],
     "language": "python",
     "metadata": {},
     "outputs": [
      {
       "output_type": "stream",
       "stream": "stdout",
       "text": [
        "\ufeffDie sieben Raben\n",
        "Ein Mann hatte sieben S\u00f6hne und immer noch kein T\u00f6chterch [rest of the text\u2026] alt wieder. Und sie herzten und k\u00fc\u00dften einander, und zogen fr\u00f6hlich heim.\n",
        "\n",
        "\n",
        "4901\n"
       ]
      }
     ],
     "prompt_number": 241
    },
    {
     "cell_type": "code",
     "collapsed": false,
     "input": [
      "rabenTokens = nltk.word_tokenize(rabenString)\n",
      "print(rabenTokens[:10]) #prints the first ten tokens so that we can confirm where everything is starting.\n",
      "from __future__ import unicode_literals, print_function\n",
      "\n",
      "from nltk import compat\n",
      "from nltk.corpus import stopwords\n",
      "from nltk.stem import porter\n",
      "\n",
      "from nltk.stem.api import StemmerI\n",
      "\n",
      "from nltk.stem.snowball import GermanStemmer\n",
      "stemmer = GermanStemmer()\n",
      "def __init__(self, language, ignore_stopwords=True):\n",
      "        if language not in self.languages:\n",
      "            raise ValueError(\"The language '%s' is not supported.\" % language)\n",
      "        stemmerclass = globals()[language.capitalize() + \"Stemmer\"]\n",
      "        self.stemmer = stemmerclass(ignore_stopwords)\n",
      "        self.stem = self.stemmer.stem\n",
      "        self.stopwords = self.stemmer.stopwords\n",
      "stemmer.stem(\"ausgezeichneten\")"
     ],
     "language": "python",
     "metadata": {},
     "outputs": [
      {
       "output_type": "stream",
       "stream": "stdout",
       "text": [
        "['\\ufeffDie', 'sieben', 'Raben', 'Ein', 'Mann', 'hatte', 'sieben', 'S\u00f6hne', 'und', 'immer']\n"
       ]
      },
      {
       "metadata": {},
       "output_type": "pyout",
       "prompt_number": 242,
       "text": [
        "'ausgezeichnet'"
       ]
      }
     ],
     "prompt_number": 242
    },
    {
     "cell_type": "code",
     "collapsed": false,
     "input": [
      "rabenStopwords = nltk.corpus.stopwords.words(\"German\")\n",
      "rabenTokensLowercase = nltk.word_tokenize(rabenString.lower())"
     ],
     "language": "python",
     "metadata": {},
     "outputs": [],
     "prompt_number": 243
    },
    {
     "cell_type": "code",
     "collapsed": false,
     "input": [
      "rabenTokensStop = [word for word in rabenTokensLowercase if not word in rabenStopwords]\n",
      "#print(rabenTokensStop)"
     ],
     "language": "python",
     "metadata": {},
     "outputs": [],
     "prompt_number": 244
    },
    {
     "cell_type": "code",
     "collapsed": false,
     "input": [
      "rabenRealTokens = [word for word in rabenTokensLowercase if any(c.isalpha() for c in word) if not word in rabenStopwords]\n",
      "\n",
      "rabenFreqs = nltk.FreqDist(rabenRealTokens)\n",
      "rabenFreqs.tabulate(25)"
     ],
     "language": "python",
     "metadata": {},
     "outputs": [
      {
       "output_type": "stream",
       "stream": "stdout",
       "text": [
        "sieben sprach raben  kam m\u00e4dchen becherchen br\u00fcder gieng h\u00f6rte ward tellerchen vater glasberg eltern immer welt zwerglein beinchen nahm \u201eich kind ringlein heim machte aufmachte \n",
        "   8    8    8    7    6    5    5    4    4    4    4    4    4    4    3    3    3    3    3    3    3    3    3    2    2 \n"
       ]
      }
     ],
     "prompt_number": 245
    },
    {
     "cell_type": "markdown",
     "metadata": {},
     "source": [
      "Due to the shortness of this story, many of the anthropomorphic characters that help the M\u00e4dchen in her search for her brothers (the Raben) are only mentioned once, so the top 25 frequnecies that we see here aren't going to help us very much in understanding which characters play a role. The main characters, the Raben/Br\u00fcder, the M\u00e4dchen, the Eltern/Vater are listed, while the moon, the sun, the stars, and the dwarf are not mentioned. What happens if we search the top 50?"
     ]
    },
    {
     "cell_type": "code",
     "collapsed": false,
     "input": [
      "rabenFreqs.tabulate(50)\n",
      "print(sorted(list(rabenFreqs)))"
     ],
     "language": "python",
     "metadata": {},
     "outputs": [
      {
       "output_type": "stream",
       "stream": "stdout",
       "text": [
        "sieben sprach raben  kam m\u00e4dchen becherchen br\u00fcder gieng h\u00f6rte ward tellerchen vater glasberg eltern immer welt zwerglein beinchen nahm \u201eich kind ringlein heim machte aufmachte rieche gute entgegen geschwister schwesterchen hervor gehabt w\u00e4re kommen fort w\u00e4ren lange m\u00fc\u00dfte lief kamen geschwirr thor holen t\u00f6chterchen wohl mutter s\u00f6hne st\u00fchlchen weit  sah \n",
        "   8    8    8    7    6    5    5    4    4    4    4    4    4    4    3    3    3    3    3    3    3    3    3    2    2    2    2    2    2    2    2    2    2    2    2    2    2    2    2    2    2    2    2    2    2    2    2    2    2    2 \n",
        "['ab', 'allein', 'andenken', 'anfangen', 'angst', 'anla\u00df', 'antwortete', 'aufmachte', 'aufschlie\u00dfen', 'aufzusp\u00fcren', 'ausgeredet', 'a\u00df', 'bald', 'becherchen', 'bechers', 'befreien', 'beim', 'beinchen', 'bekamen', 'besondern', 'betr\u00fcbt', 'blickte', 'brot', 'brunnen', 'br\u00f6ckchen', 'br\u00fcder', 'br\u00fcder.\u201c', 'b\u00f6s', 'darauf', 'daraus', 'davon', 'durften', 'durst', 'eigentlich', 'eilends', 'eilig', 'ein.\u201c', 'einander', 'eingegangen', 'einigerma\u00dfen', 'eltern', 'ende', 'endlich', 'entgegen', 'erkannte', 'erl\u00f6sen', 'erl\u00f6st.\u201c', 'erretten', 'erste', 'erw\u00e4hnen', 'essen', 'fallen', 'fiel', 'fingerchen', 'fliegen', 'fort', 'fragte', 'frau', 'fra\u00df', 'freude', 'freundlich', 'fr\u00f6hlich', 'f\u00fcrchterlich', 'gab', 'ganz', 'gar', 'gebe', 'geburt', 'geflogen.\u201c', 'gegessen', 'gehabt', 'geheimnis', 'geschenk', 'geschwind', 'geschwirr', 'geschwister', 'gestalt', 'getraute', 'getrunken', 'geweh', 'gewesen.\u201c', 'gewissen', 'gieng', 'glasberg', 'glaubte', 'gl\u00fccklich', 'gottlosen', 'grausig', 'gro\u00df', 'grund', 'gut', 'gute', 'guten', 'hast', 'haupt', 'haus', 'heim', 'heimlich', 'hei\u00df', 'herein', 'herren', 'hervor', 'herzten', 'himmels', 'hingerathen', 'hinkelbeinchen', 'hoffnung', 'holen', 'hunger', 'h\u00e4tte', 'h\u00f6he', 'h\u00f6rte', 'h\u00fcteten', 'immer', 'irgendwo', 'jedoch', 'jungen', 'jungen.\u201c', 'kalt', 'kam', 'kamen', 'kannst', 'kaum', 'kind', 'kinde', 'kinder', 'klein', 'kleinen', 'kleines', 'knaben', 'kohlschwarze', 'kommen', 'konnten', 'kosten', 'krug', 'kr\u00e4ften', 'kr\u00fcglein', 'k\u00fc\u00dften', 'laib', 'lang', 'lange', 'lauschte', 'leer', 'letzte', 'leute', 'liebes', 'lief', 'liefen', 'lie\u00df', 'luft', 'l\u00e4nger', 'machte', 'mann', 'mehr', 'menschen', 'menschenfleisch.\u201c', 'menschliche', 'merkte', 'messer', 'mitgenommen', 'mond', 'morgenstern', 'mund', 'mutter', 'm\u00e4dchen', 'm\u00f6chte', 'm\u00fcdigkeit', 'm\u00fc\u00dfte', 'nahm', 'nothtaufe', 'quelle', 'raben', 'rast', 'rieche', 'rief', 'ring', 'ringlein', 'rollte', 'ruhe', 'sagten', 'sah', 'sa\u00df', 'schickte', 'schlo\u00df', 'schl\u00fcckchen', 'schl\u00fcssel', 'schm\u00e4chtig', 'schnitt', 'schuld', 'schwachheit', 'schwesterchen', 'schwesterlein', 'sch\u00f6n', 'sch\u00f6ner', 'sch\u00f6pfen', 'sechs', 'sei', 'sichs', 'sieben', 'siebente', 'sies', 'sollten', 'sonne', 'speise', 'spiel', 'sprach', 'sprechen', 'stand', 'standen', 'steckte', 'sterne', 'sternen', 'st\u00fchlchen', 'suche', 'suchst', 'suchten', 's\u00f6hne', 'tage', 'tags', 'taufwasser', 'tellerchen', 'thor', 'thun', 'th\u00fcre', 'trank', 'trat', 'traurig', 'trinken', 'tritt', 'trug', 'tr\u00f6steten', 't\u00e4glich', 't\u00f6chterchen', 't\u00fcchlein', 'ungeduldig', 'ungef\u00e4hr', 'ungetauft', 'ungl\u00fcck', 'unschuldige', 'vater', 'vergessen', 'verh\u00e4ngnis', 'verloren', 'verlust', 'verscheiden', 'verschlossen', 'verschweigen', 'verw\u00fcnschung', 'ward', 'wars', 'warten', 'wasser', 'wegen', 'weit', 'weite', 'welt', 'wer', 'wickelte', 'wies', 'willst', 'wohl', 'wollten', 'wort', 'wunsch', 'wu\u00dfte', 'wu\u00dften', 'w\u00e4re', 'w\u00e4ren', 'w\u00fcnschte', 'w\u00fcrden.\u201c', 'zeit', 'zogen', 'zur\u00fcck', 'zur\u00fccknehmen', 'zwerg', 'zwerglein', '\u00e4rger', '\u201edie', '\u201egewis', '\u201egott', '\u201eich', '\u201ejetzt', '\u201emein', '\u201ewenn', '\u201ewer', '\\ufeffdie']\n"
       ]
      }
     ],
     "prompt_number": 246
    },
    {
     "cell_type": "markdown",
     "metadata": {},
     "source": [
      "In the sorted, printed list we can see that Mond, Sonne, and Sterne(n) are indeed found within the text, but again do not come out in the most frequent list because they are only mentioned once. The best way to show the correlation between all of our characters here, unfortunately, is to read the story itself and determine who they are. Then, with that information, we can select the characters that we want within the word trend graph in Voyant. Or perhaps first we should try the concordance function with the characters that we know from the frequency list. "
     ]
    },
    {
     "cell_type": "code",
     "collapsed": false,
     "input": [
      "rabenText = nltk.Text(rabenTokens)\n",
      "rabenText.concordance(\"m\u00e4dchen\", lines=25)"
     ],
     "language": "python",
     "metadata": {},
     "outputs": [
      {
       "output_type": "stream",
       "stream": "stdout",
       "text": [
        "Displaying 6 of 6 matches:\n",
        "d wies zur Welt kam , wars auch ein M\u00e4dchen . Die Freude war gro\u00df , aber das Ki\n",
        "osen Jungen.\u201c Es ward ihm angst das M\u00e4dchen m\u00fc\u00dfte ungetauft verscheiden und im \n",
        "Leute von sich sprechen h\u00f6rte , das M\u00e4dchen w\u00e4re wohl sch\u00f6n , aber doch eigentl\n",
        "chuldige Anla\u00df gewesen . Allein das M\u00e4dchen machte sich t\u00e4glich ein Gewissen da\n",
        "Glasberg da sind deine Br\u00fcder.\u201c Das M\u00e4dchen nahm das Beinchen , wickelte es woh\n",
        " da , so w\u00e4ren wir erl\u00f6st.\u201c Wie das M\u00e4dchen , das hinter der Th\u00fcre stand und la\n"
       ]
      }
     ],
     "prompt_number": 247
    },
    {
     "cell_type": "markdown",
     "metadata": {},
     "source": [
      "In this case, the concordance has not told us anything specific about other characters. What about the brothers?"
     ]
    },
    {
     "cell_type": "code",
     "collapsed": false,
     "input": [
      "rabenText.concordance(\"br\u00fcder\", lines=25)"
     ],
     "language": "python",
     "metadata": {},
     "outputs": [
      {
       "output_type": "stream",
       "stream": "stdout",
       "text": [
        "Displaying 5 of 5 matches:\n",
        "Schuld an dem Ungl\u00fcck seiner sieben Br\u00fcder . Da ward es ganz betr\u00fcbt , gieng z\n",
        "er und Mutter und fragte ob es denn Br\u00fcder gehabt h\u00e4tte und wo sie hingerathen\n",
        "und in die weite Welt gieng , seine Br\u00fcder irgendwo aufzusp\u00fcren und zu befreie\n",
        " Was sollte es nun anfangen ? seine Br\u00fcder wollte es erretten und hatte keinen\n",
        " was suchst du ? \u201c \u201eIch suche meine Br\u00fcder , die sieben Raben , \u201c antwortete e\n"
       ]
      }
     ],
     "prompt_number": 248
    },
    {
     "cell_type": "markdown",
     "metadata": {},
     "source": [
      "Again, nothing specific. What about the other form of the brothers, \"raben\" = raven in English."
     ]
    },
    {
     "cell_type": "code",
     "collapsed": false,
     "input": [
      "rabenText.concordance(\"raben\", lines=25)"
     ],
     "language": "python",
     "metadata": {},
     "outputs": [
      {
       "output_type": "stream",
       "stream": "stdout",
       "text": [
        "Displaying 8 of 8 matches:\n",
        "                                     Raben Ein Mann hatte sieben S\u00f6hne und imme\n",
        "r \u201eich wollte da\u00df die Jungen alle zu Raben w\u00fcrden.\u201c Kaum war das Wort ausgerede\n",
        "die H\u00f6he und sah sieben kohlschwarze Raben auf und davon fliegen . Die Eltern k\n",
        "\u201eIch suche meine Br\u00fcder , die sieben Raben , \u201c antwortete es . Der Zwerg sprach\n",
        "te es . Der Zwerg sprach \u201edie Herren Raben sind nicht zu Haus , aber willst du \n",
        "uf trug das Zwerglein die Speise der Raben herein auf sieben Tellerchen und in \n",
        "s Zwerglein \u201ejetzt kommen die Herren Raben heim geflogen.\u201c Da kamen sie , wollt\n",
        " es hervor , und da bekamen alle die Raben ihre menschliche Gestalt wieder . Un\n"
       ]
      }
     ],
     "prompt_number": 249
    },
    {
     "cell_type": "markdown",
     "metadata": {},
     "source": [
      "Finally we come across another helpful character, the Zwerg = dwarf. That's a step closer to finding the celestial beings that I already know are in the story. In the top 50 list, there's the term \"rieche\" which means to smell. I am already aware that one of the celestial characters, who is not very nice, comments that he can smell human flesh when the little girl approaches, so let's try to find that term's concordance."
     ]
    },
    {
     "cell_type": "code",
     "collapsed": false,
     "input": [
      "rabenText.concordance(\"rieche\", lines=25)"
     ],
     "language": "python",
     "metadata": {},
     "outputs": [
      {
       "output_type": "stream",
       "stream": "stdout",
       "text": [
        "Displaying 2 of 2 matches:\n",
        "er das Kind merkte , sprach er \u201eich rieche rieche Menschenfleisch.\u201c Da machte \n",
        "Kind merkte , sprach er \u201eich rieche rieche Menschenfleisch.\u201c Da machte es sich\n"
       ]
      }
     ],
     "prompt_number": 250
    },
    {
     "cell_type": "markdown",
     "metadata": {},
     "source": [
      "Well, that certainly didn't get us any closer to finding the remaining characters either. Let's try \"sprach\" which is the past tense form of \"to speak\" in German. Since these characters definitely spoke at least one line each, perhaps their speeches were qualified with \"sprach\"."
     ]
    },
    {
     "cell_type": "code",
     "collapsed": false,
     "input": [
      "rabenText.concordance(\"sprach\",lines=25)"
     ],
     "language": "python",
     "metadata": {},
     "outputs": [
      {
       "output_type": "stream",
       "stream": "stdout",
       "text": [
        "Displaying 8 of 8 matches:\n",
        "men , ward der Vater ungeduldig und sprach \u201egewis haben sies wieder \u00fcber ein S\n",
        " b\u00f6s , und als er das Kind merkte , sprach er \u201eich rieche rieche Menschenfleis\n",
        "uf , gab ihm ein Hinkelbeinchen und sprach \u201ewenn du das Beinchen nicht hast , \n",
        "am ihm ein Zwerglein entgegen , das sprach \u201emein Kind , was suchst du ? \u201c \u201eIch\n",
        "Raben , \u201c antwortete es . Der Zwerg sprach \u201edie Herren Raben sind nicht zu Hau\n",
        "ft ein Geschwirr und ein Geweh , da sprach das Zwerglein \u201ejetzt kommen die Her\n",
        "ihre Tellerchen und Becherchen . Da sprach einer nach dem andern \u201ewer hat von \n",
        "Ring von Vater und Mutter war , und sprach \u201eGott gebe , unser Schwesterlein w\u00e4\n"
       ]
      }
     ],
     "prompt_number": 251
    },
    {
     "cell_type": "markdown",
     "metadata": {},
     "source": [
      "Still not happening, so my conclusion is that, with these current methods, it would not be possible to determine character interaction from a digital distance reading approach and that the text indeed needs to be read by a human first. Since I have already read the text, I am going to move on to the word trend graph within which I will manually select the words to be graphed. "
     ]
    },
    {
     "cell_type": "code",
     "collapsed": false,
     "input": [
      "HTML('<iframe width=\"700\" height=\"400\" src=\"http://voyant-tools.org/tool/TypeFrequenciesChart/?corpus=1425066522312.5020&docIdType=d1425014025539.4ccececc-6f24-d4ef-409e-dc37a1998a92%3Araben&docIdType=d1425014025539.4ccececc-6f24-d4ef-409e-dc37a1998a92%3Am%C3%A4dchen&docIdType=d1425014025539.4ccececc-6f24-d4ef-409e-dc37a1998a92%3Abr%C3%BCder&docIdType=d1425014025539.4ccececc-6f24-d4ef-409e-dc37a1998a92%3Aschwesterchen&stopList=stop.de.german.txt&mode=document&limit=2&freqsMode=raw\"></iframe>')"
     ],
     "language": "python",
     "metadata": {},
     "outputs": [
      {
       "html": [
        "<iframe width=\"700\" height=\"400\" src=\"http://voyant-tools.org/tool/TypeFrequenciesChart/?corpus=1425066522312.5020&docIdType=d1425014025539.4ccececc-6f24-d4ef-409e-dc37a1998a92%3Araben&docIdType=d1425014025539.4ccececc-6f24-d4ef-409e-dc37a1998a92%3Am%C3%A4dchen&docIdType=d1425014025539.4ccececc-6f24-d4ef-409e-dc37a1998a92%3Abr%C3%BCder&docIdType=d1425014025539.4ccececc-6f24-d4ef-409e-dc37a1998a92%3Aschwesterchen&stopList=stop.de.german.txt&mode=document&limit=2&freqsMode=raw\"></iframe>"
       ],
       "metadata": {},
       "output_type": "pyout",
       "prompt_number": 252,
       "text": [
        "<IPython.core.display.HTML at 0x109aaa710>"
       ]
      }
     ],
     "prompt_number": 252
    },
    {
     "cell_type": "code",
     "collapsed": false,
     "input": [
      "HTML('<iframe width=\"700\" height=\"400\" src=\"http://voyant-tools.org/tool/TypeFrequenciesChart/?corpus=1425072409080.3475&docIdType=d1425014025539.57ab431d-5e58-7fde-f9f7-7115c86ff8e0%3Araben&docIdType=d1425014025539.57ab431d-5e58-7fde-f9f7-7115c86ff8e0%3Am%C3%A4dchen&docIdType=d1425014025539.57ab431d-5e58-7fde-f9f7-7115c86ff8e0%3Abr%C3%BCder&docIdType=d1425014025539.57ab431d-5e58-7fde-f9f7-7115c86ff8e0%3Azwerglein&docIdType=d1425014025539.57ab431d-5e58-7fde-f9f7-7115c86ff8e0%3Aschwesterchen&docIdType=d1425014025539.57ab431d-5e58-7fde-f9f7-7115c86ff8e0%3Asonne&docIdType=d1425014025539.57ab431d-5e58-7fde-f9f7-7115c86ff8e0%3Asterne&docIdType=d1425014025539.57ab431d-5e58-7fde-f9f7-7115c86ff8e0%3Asternen&docIdType=d1425014025539.57ab431d-5e58-7fde-f9f7-7115c86ff8e0%3Amond&stopList=stop.de.german.txt&mode=document&freqsMode=raw\"></iframe>')"
     ],
     "language": "python",
     "metadata": {},
     "outputs": [
      {
       "html": [
        "<iframe width=\"700\" height=\"400\" src=\"http://voyant-tools.org/tool/TypeFrequenciesChart/?corpus=1425072409080.3475&docIdType=d1425014025539.57ab431d-5e58-7fde-f9f7-7115c86ff8e0%3Araben&docIdType=d1425014025539.57ab431d-5e58-7fde-f9f7-7115c86ff8e0%3Am%C3%A4dchen&docIdType=d1425014025539.57ab431d-5e58-7fde-f9f7-7115c86ff8e0%3Abr%C3%BCder&docIdType=d1425014025539.57ab431d-5e58-7fde-f9f7-7115c86ff8e0%3Azwerglein&docIdType=d1425014025539.57ab431d-5e58-7fde-f9f7-7115c86ff8e0%3Aschwesterchen&docIdType=d1425014025539.57ab431d-5e58-7fde-f9f7-7115c86ff8e0%3Asonne&docIdType=d1425014025539.57ab431d-5e58-7fde-f9f7-7115c86ff8e0%3Asterne&docIdType=d1425014025539.57ab431d-5e58-7fde-f9f7-7115c86ff8e0%3Asternen&docIdType=d1425014025539.57ab431d-5e58-7fde-f9f7-7115c86ff8e0%3Amond&stopList=stop.de.german.txt&mode=document&freqsMode=raw\"></iframe>"
       ],
       "metadata": {},
       "output_type": "pyout",
       "prompt_number": 253,
       "text": [
        "<IPython.core.display.HTML at 0x109aaa0b8>"
       ]
      }
     ],
     "prompt_number": 253
    },
    {
     "cell_type": "markdown",
     "metadata": {},
     "source": [
      "I tried several times in Voyant to get the proper HTML snippet to export, but no matter what I did it would never give me the exact graph that it was showing me within the Voyant window. So, you'll see below a screenshot of what the graph should have looked like with all of the character names included, again as a raw frequencies graph. "
     ]
    },
    {
     "cell_type": "code",
     "collapsed": false,
     "input": [
      "HTML('<a href=\"http://imgur.com/eE7osyt\"><img src=\"http://i.imgur.com/eE7osyt.png?1\" title=\"Die Sieben Raben\" /></a>')"
     ],
     "language": "python",
     "metadata": {},
     "outputs": [
      {
       "html": [
        "<a href=\"http://imgur.com/eE7osyt\"><img src=\"http://i.imgur.com/eE7osyt.png?1\" title=\"Die Sieben Raben\" /></a>"
       ],
       "metadata": {},
       "output_type": "pyout",
       "prompt_number": 254,
       "text": [
        "<IPython.core.display.HTML at 0x108749be0>"
       ]
      }
     ],
     "prompt_number": 254
    },
    {
     "cell_type": "markdown",
     "metadata": {},
     "source": [
      "Isn't is beautiful? The way the characters weave in and out of the story over time is interesting to me. If you have ever seen the Pixar film Wall-E, it looks like the part when Wall-E and Eve are dancing together in space leaving a double helix like trail behind them out of fire extinguisher material. \n",
      "\n",
      "Anyway, here the M\u00e4dchen and Schwesterchen both refer to the same female main character, the one who goes on the journey to retrieve her long lost brothers that she didn't even know she had because they had accidentally been turned into ravens by their father who could not undo the curse. The young girl's first frequency peak is found at the 4th segment, along with the Br\u00fcder's first peak as well. This is when the daughter/girl finds out that she has brothers and then she sets off to save them. Directly thereafter we can see that the Sonne/sun comes forward once and only once at the 5th segment mark, which is then followed by the single appearance of the Mond/moon which coincides (not easily discernibly) with the one and only appearance of the Sterne/stars at the 6th segment mark. \n",
      "\n",
      "At the 7th segment mark, the Br\u00fcder spike again because the girl receives a bone from the Morgenstern (part of the Sterne) in order to open the gate at the palace where her raven brothers live. She actually ends up losing that bone and has to cut off one of her own in order to unlock the gate. Once inside, the girl encounters the Zwerglein/dwarf who tells her that the Raben are not at home at the moment, but their food is laid out. She eats from each plate and drinks from each drink, and in the final drink she drops a ring that her father had given her before she set out on her adventure. The idea was that one of her brothers would find the ring and know where it came from, and that is exactly what happened upon their return in the 8th segment. Finally, in the 9th segment the M\u00e4dchen is referred to as Schwesterchen/little sister, as she is reunited with her brothers and the curse is lifted. \n",
      "http://www.grimmstories.com/language.php?grimm=025&l=en&r=de"
     ]
    },
    {
     "cell_type": "heading",
     "level": 1,
     "metadata": {},
     "source": [
      "Schneewei\u00dfchen und Rosenroth Analysis"
     ]
    },
    {
     "cell_type": "code",
     "collapsed": false,
     "input": [
      "f = open(\"data/M\u00e4rchen Midterm Project/Schneewei\u00dfchen und Rosenroth.txt\", \"r\")\n",
      "schneeString = f.read()\n",
      "f.close()"
     ],
     "language": "python",
     "metadata": {},
     "outputs": [],
     "prompt_number": 255
    },
    {
     "cell_type": "code",
     "collapsed": false,
     "input": [
      "print(schneeString[:75] + \" [rest of the text\u2026] \" + schneeString[-75:])\n",
      "print(len(schneeString))"
     ],
     "language": "python",
     "metadata": {},
     "outputs": [
      {
       "output_type": "stream",
       "stream": "stdout",
       "text": [
        "\ufeffSchneewei\u00dfchen und Rosenroth\n",
        "Eine arme Wittwe, die lebte einsam in einem H [rest of the text\u2026] r ihrem Fenster und trugen jedes Jahr die sch\u00f6nsten Rosen, wei\u00df und roth.\n",
        "\n",
        "\n",
        "13762\n"
       ]
      }
     ],
     "prompt_number": 256
    },
    {
     "cell_type": "code",
     "collapsed": false,
     "input": [
      "schneeTokens = nltk.word_tokenize(schneeString)\n",
      "print(rabenTokens[:10]) #prints the first ten tokens so that we can confirm where everything is starting.\n",
      "from __future__ import unicode_literals, print_function\n",
      "\n",
      "from nltk import compat\n",
      "from nltk.corpus import stopwords\n",
      "from nltk.stem import porter\n",
      "\n",
      "from nltk.stem.api import StemmerI\n",
      "\n",
      "from nltk.stem.snowball import GermanStemmer\n",
      "stemmer = GermanStemmer()\n",
      "def __init__(self, language, ignore_stopwords=True):\n",
      "        if language not in self.languages:\n",
      "            raise ValueError(\"The language '%s' is not supported.\" % language)\n",
      "        stemmerclass = globals()[language.capitalize() + \"Stemmer\"]\n",
      "        self.stemmer = stemmerclass(ignore_stopwords)\n",
      "        self.stem = self.stemmer.stem\n",
      "        self.stopwords = self.stemmer.stopwords"
     ],
     "language": "python",
     "metadata": {},
     "outputs": [
      {
       "output_type": "stream",
       "stream": "stdout",
       "text": [
        "['\\ufeffDie', 'sieben', 'Raben', 'Ein', 'Mann', 'hatte', 'sieben', 'S\u00f6hne', 'und', 'immer']\n"
       ]
      }
     ],
     "prompt_number": 257
    },
    {
     "cell_type": "code",
     "collapsed": false,
     "input": [
      "schneeStopwords = nltk.corpus.stopwords.words(\"German\")\n",
      "schneeTokensLowercase = nltk.word_tokenize(schneeString.lower())"
     ],
     "language": "python",
     "metadata": {},
     "outputs": [],
     "prompt_number": 258
    },
    {
     "cell_type": "code",
     "collapsed": false,
     "input": [
      "schneeTokensStop = [word for word in schneeTokensLowercase if not word in schneeStopwords]\n",
      "#print(schneeTokensStop)"
     ],
     "language": "python",
     "metadata": {},
     "outputs": [],
     "prompt_number": 259
    },
    {
     "cell_type": "code",
     "collapsed": false,
     "input": [
      "schneeRealTokens = [word for word in schneeTokensLowercase if any(c.isalpha() for c in word) if not word in schneeStopwords]\n",
      "#print(schneeRealTokens)"
     ],
     "language": "python",
     "metadata": {},
     "outputs": [],
     "prompt_number": 260
    },
    {
     "cell_type": "code",
     "collapsed": false,
     "input": [
      "schneeFreqs = nltk.FreqDist(schneeRealTokens)\n",
      "schneeFreqs.tabulate(25)"
     ],
     "language": "python",
     "metadata": {},
     "outputs": [
      {
       "output_type": "stream",
       "stream": "stdout",
       "text": [
        " b\u00e4r rosenroth schneewei\u00dfchen mutter zwerg kinder sagte bart m\u00e4dchen sprang hinein ganz schrie fort beiden sprach sack sahen walde   ab kamen schon gleich zwei h\u00e4nden \n",
        "  20   18   16   15   15   12    9    8    7    7    7    7    6    6    6    5    5    5    5    5    5    5    5    5    4 \n"
       ]
      }
     ],
     "prompt_number": 261
    },
    {
     "cell_type": "code",
     "collapsed": false,
     "input": [
      "HTML('<iframe width=\"700\" height=\"400\" src=\"http://voyant-tools.org/tool/Cirrus/?corpus=1425084968692.3173&stopList=stop.de.german.txt&docIndex=0&docId=d1425014025539.dfb84bcb-999d-3a79-1357-b4ca1079f36b\"></iframe>')"
     ],
     "language": "python",
     "metadata": {},
     "outputs": [
      {
       "html": [
        "<iframe width=\"700\" height=\"400\" src=\"http://voyant-tools.org/tool/Cirrus/?corpus=1425084968692.3173&stopList=stop.de.german.txt&docIndex=0&docId=d1425014025539.dfb84bcb-999d-3a79-1357-b4ca1079f36b\"></iframe>"
       ],
       "metadata": {},
       "output_type": "pyout",
       "prompt_number": 262,
       "text": [
        "<IPython.core.display.HTML at 0x109cc1240>"
       ]
      }
     ],
     "prompt_number": 262
    },
    {
     "cell_type": "markdown",
     "metadata": {},
     "source": [
      "Luckily in this tale, the most important characters are actually the most frequent terms which are returned using the nltk function above. B\u00e4r/bear; Rosenrot/Rose-red; Schneewei\u00dfchen/Snow white; Mutter/mother; Zwerg/dawrf; and Kinder/children which refers back to the daughters Rose-red and Snow-white. But do they occur often in conjunction with one another? Let's check their concordances."
     ]
    },
    {
     "cell_type": "code",
     "collapsed": false,
     "input": [
      "schneeText = nltk.Text(schneeTokens)\n",
      "schneeText.concordance(\"b\u00e4r\",lines=25)"
     ],
     "language": "python",
     "metadata": {},
     "outputs": [
      {
       "output_type": "stream",
       "stream": "stdout",
       "text": [
        "Displaying 20 of 20 matches:\n",
        " , aber der war es nicht , es war ein B\u00e4r , der seinen dicken schwarzen Kopf zu\n",
        "kte sich hinter der Mutter Bett . Der B\u00e4r aber fieng an zu sprechen und sagte \u201e\n",
        "ein wenig bei euch w\u00e4rmen.\u201c \u201eDu armer B\u00e4r , \u201c sprach die Mutter , \u201eleg dich ans\n",
        "chen , Rosenroth , kommt hervor , der B\u00e4r thut euch nichts , er meints ehrlich.\n",
        "und hatten keine Furcht vor ihm . Der B\u00e4r sprach \u201eihr Kinder , klopft mir den S\n",
        " sie holten den Besen und kehrten dem B\u00e4r das Fell rein : er aber streckte sich\n",
        "enn er brummte , so lachten sie . Der B\u00e4r lie\u00df sichs aber gerne gefallen , nur \n",
        "ett giengen , sagte die Mutter zu dem B\u00e4r \u201edu kannst in Gottes Namen da am Herd\n",
        " den Wald hinein . Von nun an kam der B\u00e4r jeden Abend zu der bestimmten Stunde \n",
        "nd drau\u00dfen alles gr\u00fcn war , sagte der B\u00e4r eines Morgens zu Schneewei\u00dfchen \u201enun \n",
        "mmen.\u201c \u201eWo gehst du denn hin , lieber B\u00e4r ? \u201c fragte Schneewei\u00dfchen . \u201eIch mu\u00df \n",
        "s ihm die Th\u00fcre aufriegelte , und der B\u00e4r sich hinaus dr\u00e4ngte , blieb er an dem\n",
        "es war seiner Sache nicht gewis . Der B\u00e4r lief eilig fort und war bald hinter d\n",
        " Brummen h\u00f6ren lie\u00df und ein schwarzer B\u00e4r aus dem Walde herbei trabte . Erschro\n",
        "u seinem Schlupfwinkel gelangen , der B\u00e4r war schon in seiner N\u00e4he . Da rief er\n",
        " rief er in Herzensangst \u201elieber Herr B\u00e4r , verschont mich , ich will euch alle\n",
        "eln , die fre\u00dft in Gottes Namen.\u201c Der B\u00e4r k\u00fcmmerte sich um seine Worte nicht , \n",
        "dchen waren fortgesprungen , aber der B\u00e4r rief ihnen nach \u201eSchneewei\u00dfchen und R\n",
        "imme und blieben stehen , und als der B\u00e4r bei ihnen war , fiel pl\u00f6tzlich die B\u00e4\n",
        "len hatte , verw\u00fcnscht als ein wilder B\u00e4r in dem Walde zu laufen , bis ich durc\n"
       ]
      }
     ],
     "prompt_number": 263
    },
    {
     "cell_type": "markdown",
     "metadata": {},
     "source": [
      "In terms of B\u00e4r/bear, in these sentences Rosenroth appears only once, Schneewei\u00dfchen appears 3 times, the mother appears 3 times, and Kinder (referring to both daughters) appears only once as well. Interestingly, Zwerg does not appear around the B\u00e4r at all. So let's look into the concordances for Zwerg."
     ]
    },
    {
     "cell_type": "code",
     "collapsed": false,
     "input": [
      "schneeText.concordance(\"zwerg\", lines=25)"
     ],
     "language": "python",
     "metadata": {},
     "outputs": [
      {
       "output_type": "stream",
       "stream": "stdout",
       "text": [
        "Displaying 15 of 15 matches:\n",
        "ls sie n\u00e4her kamen , sahen sie einen Zwerg mit einem alten verwelkten Gesicht u\n",
        "e neugierige Gans , \u201c antwortete der Zwerg , \u201eden Baum habe ich mir spalten wol\n",
        "innige Schafsk\u00f6pfe , \u201c schnarrte der Zwerg , \u201ewer wird gleich Leute herbeirufen\n",
        " das Ende des Bartes ab . Sobald der Zwerg sich frei f\u00fchlte , griff er nach ein\n",
        ". Sie liefen heran und erkannten den Zwerg . \u201eWo willst du hin ? \u201c sagte Rosenr\n",
        "in Narr bin ich nicht , \u201c schrie der Zwerg , \u201eseht ihr nicht , der verw\u00fcnschte \n",
        "sch behielt die Oberhand und ri\u00df den Zwerg zu sich hin . Zwar hielt er sich an \n",
        "l desselben verloren gieng . Als der Zwerg das sah , schrie er sie an , \u201eist da\n",
        "er Adler ihren alten Bekannten , den Zwerg , gepackt hatte und ihn forttragen w\n",
        "er seine Beute fahren lie\u00df . Als der Zwerg sich von dem ersten Schrecken erholt\n",
        "e Heide kamen , \u00fcberraschten sie den Zwerg , der auf einem reinlichen Pl\u00e4tzchen\n",
        "d habt Maulaffen feil ! \u201c schrie der Zwerg , und sein aschgraues Gesicht ward z\n",
        "rbei trabte . Erschrocken sprang der Zwerg auf , aber er konnte nicht mehr zu s\n",
        "rach er , \u201eund war von dem gottlosen Zwerg , der mir meine Sch\u00e4tze gestohlen ha\n",
        "ro\u00dfen Sch\u00e4tze mit einander , die der Zwerg in seine H\u00f6hle zusammen getragen hat\n"
       ]
      }
     ],
     "prompt_number": 264
    },
    {
     "cell_type": "markdown",
     "metadata": {},
     "source": [
      "The words that occur most often around Zwerg are not happy words because he seems to be a terrible creature who always needs help, but is only looking out for himself (on top of stealing treasures). He is not nice to the children even one time, despite the fact that they saved him three times from dangerous situations. No one else's character title is included in this list of concordances except for half of Rosenroth. That could be because he tries/tried to keep everoyne else away from him throughout the whole story, probably because he thought he would be caught with the treasures that he always had bag of on his person."
     ]
    },
    {
     "cell_type": "code",
     "collapsed": false,
     "input": [
      "schneeText.concordance(\"schneewei\u00dfchen\", lines=25)"
     ],
     "language": "python",
     "metadata": {},
     "outputs": [
      {
       "output_type": "stream",
       "stream": "stdout",
       "text": [
        "Displaying 16 of 16 matches:\n",
        "senb\u00e4umchen , und das eine hie\u00df Schneewei\u00dfchen , das andere Rosenroth . Sie wa\n",
        "der auf der Welt gewesen sind : Schneewei\u00dfchen war nur stiller und sanfter als\n",
        " Blumen und fieng Sommerv\u00f6gel : Schneewei\u00dfchen aber sa\u00df daheim bei der Mutter \n",
        " zusammen ausgiengen : und wenn Schneewei\u00dfchen sagte \u201ewir wollen uns nicht ver\n",
        "ein , der gute Kinder bewache . Schneewei\u00dfchen und Rosenroth hielten das H\u00fcttc\n",
        "n eine Rose . Im Winter z\u00fcndete Schneewei\u00dfchen das Feuer an und hieng den Kess\n",
        "ielen , sagte die Mutter \u201egeh , Schneewei\u00dfchen , und schieb den Riegel vor , \u201c\n",
        " das T\u00e4ubchen flatterte auf und Schneewei\u00dfchen versteckte sich hinter der Mutt\n",
        "\u00dft mich am Leben , ihr Kinder : Schneewei\u00dfchen , Rosenroth , schl\u00e4gst dir den \n",
        " sagte der B\u00e4r eines Morgens zu Schneewei\u00dfchen \u201enun mu\u00df ich fort und darf den \n",
        "enn hin , lieber B\u00e4r ? \u201c fragte Schneewei\u00dfchen . \u201eIch mu\u00df in den Wald und mein\n",
        "cht wieder an des Tages Licht.\u201c Schneewei\u00dfchen war ganz traurig \u00fcber den Absch\n",
        "er Haut ri\u00df auf , und da war es Schneewei\u00dfchen , als h\u00e4tte es Gold durchschimm\n",
        " nur nicht ungeduldig , \u201c sagte Schneewei\u00dfchen , \u201eich will schon Rath schaffen\n",
        "en . Einige Zeit danach wollten Schneewei\u00dfchen und Rosenroth ein Gericht Fisch\n",
        "ohlverdiente Strafe empfangen.\u201c Schneewei\u00dfchen ward mit ihm verm\u00e4hlt und Rosen\n"
       ]
      }
     ],
     "prompt_number": 265
    },
    {
     "cell_type": "markdown",
     "metadata": {},
     "source": [
      "In the concocordance from Schneewei\u00dfchen, her sister Rosenroth appears 5 times, which is the most any other character has been seen with another so far in this analysis. As the beginning of the tale it is said that the two sisters never went anywhere without one another and always shared everything, so this makes sense. What about the other sister? Is the same true vice versa, or are there fewer or more co-occurences?"
     ]
    },
    {
     "cell_type": "code",
     "collapsed": false,
     "input": [
      "schneeText.concordance(\"rosenroth\", lines=25)"
     ],
     "language": "python",
     "metadata": {},
     "outputs": [
      {
       "output_type": "stream",
       "stream": "stdout",
       "text": [
        "Displaying 18 of 18 matches:\n",
        "                                   Rosenroth Eine arme Wittwe , die lebte einsa\n",
        "e hie\u00df Schneewei\u00dfchen , das andere Rosenroth . Sie waren aber so fromm und gut \n",
        "en war nur stiller und sanfter als Rosenroth . Rosenroth sprang lieber in den W\n",
        "tiller und sanfter als Rosenroth . Rosenroth sprang lieber in den Wiesen und Fe\n",
        " nicht verlassen , \u201c so antwortete Rosenroth \u201eso lange wir leben nicht , \u201c und \n",
        "inder bewache . Schneewei\u00dfchen und Rosenroth hielten das H\u00fcttchen der Mutter so\n",
        "in zu schauen . Im Sommer besorgte Rosenroth das Haus und stellte der Mutter je\n",
        "n . Die Mutter sprach \u201egeschwind , Rosenroth , mach auf , es wird ein Wanderer \n",
        "Wanderer sein , der Obdach sucht.\u201c Rosenroth gieng und schob den Riegel weg und\n",
        "n Kopf zur Th\u00fcre herein streckte . Rosenroth schrie laut und sprang zur\u00fcck : da\n",
        ".\u201c Dann rief sie \u201eSchneewei\u00dfchen , Rosenroth , kommt hervor , der B\u00e4r thut euch\n",
        "en , ihr Kinder : Schneewei\u00dfchen , Rosenroth , schl\u00e4gst dir den Freier todt.\u201c A\n",
        "ngen , kleines M\u00e4nnchen ? \u201c fragte Rosenroth . \u201eDumme neugierige Gans , \u201c antwo\n",
        "ufen und Leute herbei holen\u201c sagte Rosenroth . \u201eWahnsinnige Schafsk\u00f6pfe , \u201c sch\n",
        " danach wollten Schneewei\u00dfchen und Rosenroth ein Gericht Fische angeln . Als si\n",
        "werg . \u201eWo willst du hin ? \u201c sagte Rosenroth , \u201edu willst doch nicht ins Wasser\n",
        "ief ihnen nach \u201eSchneewei\u00dfchen und Rosenroth , f\u00fcrchtet euch nicht , wartet ich\n",
        "wei\u00dfchen ward mit ihm verm\u00e4hlt und Rosenroth mit seinem Bruder und sie theilten\n"
       ]
      }
     ],
     "prompt_number": 266
    },
    {
     "cell_type": "markdown",
     "metadata": {},
     "source": [
      "For Rosenroth, her sister appears 6 times in 18 matches, which is 33% of all sentences given here. In the previous concordance, the co-occurence percentage was only 31.25%, so for Rosenroth it seems that she is closer to her sister. "
     ]
    },
    {
     "cell_type": "markdown",
     "metadata": {},
     "source": [
      "If we take a look at the word trends throughout the story perhaps it will give us some closer insight of the role of the characters within the tale. "
     ]
    },
    {
     "cell_type": "code",
     "collapsed": false,
     "input": [
      "HTML('<iframe width=\"700\" height=\"400\" src=\"http://voyant-tools.org/tool/TypeFrequenciesChart/?corpus=1425084968692.3173&docIdType=d1425014025539.dfb84bcb-999d-3a79-1357-b4ca1079f36b%3Ab%C3%A4r&docIdType=d1425014025539.dfb84bcb-999d-3a79-1357-b4ca1079f36b%3Aschneewei%C3%9Fchen&docIdType=d1425014025539.dfb84bcb-999d-3a79-1357-b4ca1079f36b%3Arosenroth&docIdType=d1425014025539.dfb84bcb-999d-3a79-1357-b4ca1079f36b%3Azwerg&docIdType=d1425014025539.dfb84bcb-999d-3a79-1357-b4ca1079f36b%3Amutter&docIdType=d1425014025539.dfb84bcb-999d-3a79-1357-b4ca1079f36b%3Akinder&stopList=stop.de.german.txt&mode=document&limit=6&freqsMode=raw\"></iframe>')"
     ],
     "language": "python",
     "metadata": {},
     "outputs": [
      {
       "html": [
        "<iframe width=\"700\" height=\"400\" src=\"http://voyant-tools.org/tool/TypeFrequenciesChart/?corpus=1425084968692.3173&docIdType=d1425014025539.dfb84bcb-999d-3a79-1357-b4ca1079f36b%3Ab%C3%A4r&docIdType=d1425014025539.dfb84bcb-999d-3a79-1357-b4ca1079f36b%3Aschneewei%C3%9Fchen&docIdType=d1425014025539.dfb84bcb-999d-3a79-1357-b4ca1079f36b%3Arosenroth&docIdType=d1425014025539.dfb84bcb-999d-3a79-1357-b4ca1079f36b%3Azwerg&docIdType=d1425014025539.dfb84bcb-999d-3a79-1357-b4ca1079f36b%3Amutter&docIdType=d1425014025539.dfb84bcb-999d-3a79-1357-b4ca1079f36b%3Akinder&stopList=stop.de.german.txt&mode=document&limit=6&freqsMode=raw\"></iframe>"
       ],
       "metadata": {},
       "output_type": "pyout",
       "prompt_number": 267,
       "text": [
        "<IPython.core.display.HTML at 0x109cb47b8>"
       ]
      }
     ],
     "prompt_number": 267
    },
    {
     "cell_type": "markdown",
     "metadata": {},
     "source": [
      "At the beginning the mother and daughters are the most important part of the story, as no other characters have yet been introduced. In the 3rd segment of the story, the B\u00e4r/bear appears at the door to their house asking for help getting warm. The mother and daughters let him in and keep him warm by the fire every night until winter was over. At the beginning of spring/summer the bear says that he as to leave because the Zwerg/dwarf can now come above ground to plunder any goods that he himself may have stored over the winter. The children were sad, but understood. While the B\u00e4r is absent in segments 6,7, and 8, the Zwerg appears and the daughters end up helping him out of three different complicated and dangerous situations. Each time they free him they end up having to cut off a portion of his snow-white beard, a fact with which he is completely discontented. The children notice that each time the Zwerg runs off, he has a different bag of booty with him. \n",
      "\n",
      "The mother comes back for a moment in the 8th segment in order to ask the girls to run an errand into town. On their way back they see the Zwerg a final time, this time with his bag of jewels spread out on rocks in the sun, completely caught off guard by their approach. The Zwerg reacted angrily once again, only this time the B\u00e4r appeared and scared him so much that he offered to give him the jewels (or even the girls to eat) in order to spare his life. The B\u00e4r did not abide and struck the Zwerg down with one swift movement of his massive paw. Now in the 10th and final segment of the story both the reader and the children learn that the bear was actually a prince that had been put under a spell by the Zwerg, a spell which could only be broken upon the death of the Zwerg. The girls each ended up marrying a prince (Schneewei\u00dfchen married the B\u00e4r/prince and Rosenroth his brother) and they lived happily ever after with the riches that the Zwerg had been carrying around and hiding in his cave for so long. \n",
      "\n",
      "I think that this graph gives a good representation of the scenes of the story, the characters' interactions with one another, and a happy ending with the return of the B\u00e4r and the decline of the Zwerg.\n",
      "\n",
      "http://www.grimmstories.com/language.php?grimm=161&l=en&r=de"
     ]
    },
    {
     "cell_type": "heading",
     "level": 1,
     "metadata": {},
     "source": [
      "Conclusions"
     ]
    },
    {
     "cell_type": "markdown",
     "metadata": {},
     "source": [
      "In summation I believe that it is possible to see the correlation to the main characters in these fairy tales with their anthropomorpized creature character friends/foes. The inserted graphs of the word trends in the stories, taken from Voyant after uploading the corpus that included one tale at a time, show how the characters dance in and out of the story and around one another. What is not quite clear here is how the characters specifically interact with one another, especially in terms of sentimentally charged words within the text. However, the sentiment analysis was not included within the scope of these analyses. As seen here, the non-human characters nor the human characters are necessarily among the most frequent terms within the text, which causes some issues if we want to analyze these works from a completely distanced perspective (i.e. not reading or being familar with the text prior to analysis). Furthermore, the use of pronouns to refer to any character could be causing a gap in information that I am heretofore unable to compute specifically. "
     ]
    },
    {
     "cell_type": "heading",
     "level": 1,
     "metadata": {},
     "source": [
      "Further Research- What Would I do Next?"
     ]
    },
    {
     "cell_type": "markdown",
     "metadata": {},
     "source": [
      "I am rather interested in gaining a deeper understanding of the inner workings of the fairy tale in a broader sense. I would like to complete a sentiment analysis study on these and possibly other texts within the Grimm corpus. I believe that this analysis, combined with the analyses completed here in this notebook, would shine more light on the characters' interactions with each other. In other terms, I would like to take a sentiment dictionary and apply the computed weighted scores of the analyzed German lexicon to these texts. More specifically I would look at the main characters' interactions with one another (i.e. verbs surrounding the character names and/or dialogue portions of text between the characters) which would hopefully yield proper results. For example, in Rotk\u00e4ppchen, would the sentiment analysis be able to tell that the interaction between Rotk\u00e4ppchen herself and the wolf is overall negatively charged, despite the fact that the wolf doesn't actually say anything negative to her character (until he eats her)? I would also like to be able to access the GermaNet lemmatizer because I believe that any sentiment analysis functionality would rely heavily on part of speech tagging, which would only be possible if there is a known set of grammar rules inserted into the coding. Overall I think that the next step is attainable and I would be very interested in persuing such ventures. "
     ]
    },
    {
     "cell_type": "code",
     "collapsed": false,
     "input": [],
     "language": "python",
     "metadata": {},
     "outputs": [],
     "prompt_number": 213
    }
   ],
   "metadata": {}
  }
 ]
}